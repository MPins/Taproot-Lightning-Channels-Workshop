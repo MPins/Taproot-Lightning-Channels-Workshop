{
 "cells": [
  {
   "cell_type": "markdown",
   "id": "1299ef25",
   "metadata": {},
   "source": [
    "# Creating the Channel Funding Transaction\n",
    "\n",
    "In this section, we’ll create a Lightning channel funding transaction from scratch using Python. We’ll walk through each part of the transaction—how it’s constructed, signed, and how peers exchange messages to share the necessary information to make it happen. We'll test everything using Bitcoin Core in regtest mode."
   ]
  },
  {
   "cell_type": "markdown",
   "id": "98f3614a",
   "metadata": {},
   "source": [
    "\n",
    "## Setup\n",
    "\n",
    "For this exercise we'll need Bitcoin Core. This notebook has been tested with v29.0\n",
    "\n",
    "Below, set the paths for:\n",
    "\n",
    "    The bitcoin core functional test framework directory.\n",
    "    The directory containing taproot-lightning-channels-workshop.\n",
    "\n",
    "You'll need to edit these next two lines for your local setup.\n"
   ]
  },
  {
   "cell_type": "code",
   "execution_count": 1,
   "id": "90576f36",
   "metadata": {},
   "outputs": [],
   "source": [
    "path_to_bitcoin_functional_test = \"/home/pins-dev/Projects/bitcoin/build/test/functional\"\n",
    "path_to_taproot_workshop = \"/home/pins-dev/Projects/Taproot-Lightning-Channels-Workshop\""
   ]
  },
  {
   "cell_type": "markdown",
   "id": "6b33e510",
   "metadata": {},
   "source": [
    "\n",
    "### Setup bitcoin core test framework\n",
    "\n",
    "Start up regtest mode, delete any regtest network history so we are starting from scratch."
   ]
  },
  {
   "cell_type": "code",
   "execution_count": 2,
   "id": "4d2352ff",
   "metadata": {
    "scrolled": true
   },
   "outputs": [
    {
     "name": "stdout",
     "output_type": "stream",
     "text": [
      "2025-08-28T00:41:57.469000Z TestFramework (INFO): PRNG seed is: 1919634799285992877\n",
      "2025-08-28T00:41:57.471000Z TestFramework (INFO): Initializing test directory /tmp/bitcoin_func_test_rws8vkbh\n"
     ]
    }
   ],
   "source": [
    "import sys\n",
    "\n",
    "# Add the functional test framework to our PATH\n",
    "sys.path.insert(0, path_to_bitcoin_functional_test)\n",
    "from test_framework.test_shell import TestShell\n",
    "\n",
    "# Add the bitcoin-tx-tutorial functions to our PATH\n",
    "sys.path.insert(0, path_to_taproot_workshop)\n",
    "from functions import *\n",
    "from functions.bip_0340_reference import *\n",
    "from functions.test_framework.musig import generate_musig_key\n",
    "from functions.test_framework.key import generate_bip340_key_pair \n",
    "from functions.test_framework.script import tagged_hash\n",
    "from functions.test_framework.address import program_to_witness\n",
    "\n",
    "\n",
    "import json\n",
    "\n",
    "# Setup our regtest environment\n",
    "test = TestShell().setup(\n",
    "    num_nodes=1, \n",
    "    setup_clean_chain=True\n",
    ")\n",
    "\n",
    "node = test.nodes[0]\n",
    "\n",
    "# Create a new wallet and address to send mining rewards so we can fund our transactions\n",
    "node.createwallet(wallet_name='mywallet')\n",
    "address = node.getnewaddress()\n",
    "\n",
    "# Generate 101 blocks so that the first block subsidy reaches maturity\n",
    "result = node.generatetoaddress(nblocks=101, address=address, called_by_framework=True)\n",
    "\n",
    "# Check that we were able to mine 101 blocks\n",
    "assert(node.getblockcount() == 101)"
   ]
  },
  {
   "cell_type": "markdown",
   "id": "088c3389",
   "metadata": {},
   "source": [
    "### Setup Alice and Bob Funding Outputs\n",
    "\n",
    "Create and fund Taproot addresses for Alice and Bob so they have funds to open a simple Taproot channel. The UTXO created for Alice will be the input of the Channel Funding Transaction."
   ]
  },
  {
   "cell_type": "code",
   "execution_count": 3,
   "id": "0111bdbf",
   "metadata": {},
   "outputs": [
    {
     "name": "stdout",
     "output_type": "stream",
     "text": [
      "Alice funding pubkey: 7744633cea3c716584cb7e4d91097280f6a12e06304d8f5e61166982d37bada3\n",
      "Alice funding privkey: 1d217d364ea300c995c9c443c29c15f335dc38ff64dbafb782e40cb3c0b68c22\n",
      "Alice funding address: bcrt1pwazxx08283cktpxt0exezztjsrm2ztsxxpxc7hnpze5c95mm4k3s2rad28\n",
      "Bob funding pubkey: 7f37b4bdd392c1d5c5da28bdb60045982b8f4bdb5c4dd8ee03545a0a43f673a9\n",
      "Bob funding privkey: 7ed6d8a361b9f4db9cb53fcec82a999ed19d2f3c08034e66b0298835fd96f38d\n",
      "Bob funding address: bcrt1p0ummf0wnjtqat3w69z7mvqz9nq4c7j7mt3xa3msr23dq5slkww5sy4t5jx\n"
     ]
    }
   ],
   "source": [
    "# Create a new Alice key pair for channel funding multisig output\n",
    "alice_funding_privkey, alice_funding_pubkey = generate_bip340_key_pair()\n",
    "alice_funding_pubkey_b = alice_funding_pubkey.get_bytes()\n",
    "alice_funding_privkey_b = alice_funding_privkey.get_bytes()\n",
    "# Derive the bech32 address\n",
    "# Use program_to_witness(version_int, pubkey_bytes)\n",
    "alice_funding_address = program_to_witness(0x01, alice_funding_pubkey_b)\n",
    "print(f\"Alice funding pubkey: {alice_funding_pubkey_b.hex()}\")\n",
    "print(f\"Alice funding privkey: {alice_funding_privkey_b.hex()}\")\n",
    "print(f\"Alice funding address: {alice_funding_address}\")\n",
    "\n",
    "# Create a new Bob key pair for channel funding multisig output\n",
    "bob_funding_privkey, bob_funding_pubkey = generate_bip340_key_pair()\n",
    "bob_funding_pubkey_b = bob_funding_pubkey.get_bytes()\n",
    "bob_funding_privkey_b = bob_funding_privkey.get_bytes()\n",
    "# Derive the bech32 address\n",
    "# Use program_to_witness(version_int, pubkey_bytes)\n",
    "bob_funding_address = program_to_witness(0x01, bob_funding_pubkey_b)\n",
    "print(f\"Bob funding pubkey: {bob_funding_pubkey_b.hex()}\")\n",
    "print(f\"Bob funding privkey: {bob_funding_privkey_b.hex()}\")\n",
    "print(f\"Bob funding address: {bob_funding_address}\")\n",
    "\n",
    "# Send 1 BTC to Alice and Bob\n",
    "alice_initial_fund = 1\n",
    "bob_initial_fund = 1\n",
    "txid_to_spend = node.sendmany(\"\", {alice_funding_address: alice_initial_fund, bob_funding_address: bob_initial_fund})\n",
    "result = node.generatetoaddress(nblocks=1, address=address, called_by_framework=True)"
   ]
  },
  {
   "cell_type": "markdown",
   "id": "359e23fd",
   "metadata": {},
   "source": [
    "## Channel Establishment\n",
    "\n",
    "The \"[Extention Bolt](https://github.com/lightning/bolts/pull/995)\" for simple taproot channels (work in progress) defines a pathway to create a channel. The messages defined in [BOLT 2](https://github.com/lightning/bolts/blob/master/02-peer-protocol.md#channel-establishment-v1) are used to exchange the information needed to create the Channel Funding Transaction, as shown below.\n",
    "\n",
    "\n",
    "    +-----------+                              +---------+\n",
    "    |           |--(1)---  open_channel  ----->|         |\n",
    "    |           |<-(2)--  accept_channel  -----|         |\n",
    "    |           |                              |         |\n",
    "    |   Alice   |--(3)--  funding_created  --->|   Bob   |\n",
    "    |           |<-(4)--  funding_signed  -----|         |\n",
    "    |           |                              |         |\n",
    "    |           |--(5)---  channel_ready  ---->|         |\n",
    "    |           |<-(6)---  channel_ready  -----|         |\n",
    "    +-----------+                              +---------+\n",
    "\n",
    "\n",
    "* (1) open_channel - Alice share its \"next_local_nonce\"\n",
    "\n",
    "* (2) accept_channel - Bob share its \"next_local_nonce\"\n",
    "\n",
    "* (3) funding_created - Alice samples a fresh nonce, combines it with next_local_nonce received to create a MuSig2 partial signature, then shares partial_signature_with_nonce.\n",
    "\n",
    "* (4) funding_signed - Bob samples a fresh nonce, combines it with next_local_nonce received to create a MuSig2 partial signature, then shares partial_signature_with_nonce.\n",
    "\n",
    "* (5) channel_ready - Alice share its \"next_local_nonce\"\n",
    "\n",
    "* (6) channel_ready - Bob share its \"next_local_nonce\"\n",
    "\n",
    "\n",
    "All the nonces are generated using \"NonceGen\" algorithm defined in [bip-musig2](https://github.com/bitcoin/bips/blob/master/bip-0327.mediawiki) to ensure it generates nonces in a safe manner.\n",
    "\n",
    "The pubkeys are sorted using the \"KeySort\" algorithm from [bip-musig2](https://github.com/bitcoin/bips/blob/master/bip-0327.mediawiki).\n",
    "\n",
    "To compute the aggregated musig2 public key from the sorted funding_pubkeys use the \"KeyAgg\" algorithm from [bip-musig2](https://github.com/bitcoin/bips/blob/master/bip-0327.mediawiki).\n",
    "\n",
    "To construct a musig2 partial signature for the sender's remote commitment use the \"Sign\" algorithm from [bip-musig2](https://github.com/bitcoin/bips/blob/master/bip-0327.mediawiki)."
   ]
  },
  {
   "cell_type": "markdown",
   "id": "eef4aab6",
   "metadata": {},
   "source": [
    "### The Channel Funding Transaction\n",
    "\n",
    "Alice has a 1 BTC UTXO that will serve as the funding transaction input. We’ll now create two outputs:\n",
    "\n",
    "#### The change output back to Alice"
   ]
  },
  {
   "cell_type": "code",
   "execution_count": 4,
   "id": "9a0d7534",
   "metadata": {},
   "outputs": [
    {
     "name": "stdout",
     "output_type": "stream",
     "text": [
      "Alice funding pubkey: 567246d054025dc4e33ad799d096215dd0085d4df12680af6d4a4387e1ac3d1d\n",
      "Alice funding privkey: 877e5bc8e7da81db57e6a61d4af020c469995b714947da591f590ef7f11cdebd\n",
      "Alice funding address: bcrt1p2eeyd5z5qfwufce667vap93pthgqsh2d7yngptmdffpc0cdv85ws5e66q4\n"
     ]
    }
   ],
   "source": [
    "\n",
    "# Create a new Alice key pair output for the change\n",
    "alice_change_privkey, alice_change_pubkey = generate_bip340_key_pair()\n",
    "alice_change_pubkey_b = alice_change_pubkey.get_bytes()\n",
    "alice_change_privkey_b = alice_change_privkey.get_bytes()\n",
    "# Derive the bech32 address\n",
    "# Use program_to_witness(version_int, pubkey_bytes)\n",
    "alice_change_address = program_to_witness(0x01, alice_change_pubkey_b)\n",
    "print(f\"Alice funding pubkey: {alice_change_pubkey_b.hex()}\")\n",
    "print(f\"Alice funding privkey: {alice_change_privkey_b.hex()}\")\n",
    "print(f\"Alice funding address: {alice_change_address}\")\n"
   ]
  },
  {
   "cell_type": "markdown",
   "id": "755a7d5b",
   "metadata": {},
   "source": [
    "#### The channel musig funding output\n",
    "\n",
    "The diagram below illustrates how a Taproot channel funding output is constructed.\n",
    "\n",
    "    +------+---------------+\n",
    "    | OP_1 |       Q       |\n",
    "    +------+---------------+\n",
    "                   ^\n",
    "                   |   +----------+\n",
    "                    ---| Pagg + T |\n",
    "                       +----------+\n",
    "                         ^      ^\n",
    "                         |      |  +-----------+\n",
    "                         |       --| T = t * G |<---------\n",
    "                         |         +-----------+          |\n",
    "                         |                                |\n",
    "           +---------------------------------------+    +---+   +-------------------------------+\n",
    "           |      generate_musig_key(Pa, Pb)       |    | t | = | TaggedHash (\"Taptweak\", Pagg) |\n",
    "           +---------------------------------------+    +---+   +-------------------------------+"
   ]
  },
  {
   "cell_type": "code",
   "execution_count": 5,
   "id": "01955c37",
   "metadata": {},
   "outputs": [
    {
     "name": "stdout",
     "output_type": "stream",
     "text": [
      "Alice MuSig pubkey: 4972e2a35737fb75912d35f3f87658940a86654cefe4941d9a21fb4cb7e315f3\n",
      "Alice MuSig privkey: 98ef3361c074962eddac0f7c11ae9e6cc87d3253236b23b1dcd267b770813194\n",
      "Bob MuSig pubkey: 57aabede051a9e52e3d257d5ec53a560b53e9a93dc1dcf4c7ec3e84660e51256\n",
      "Bob MuSig privkey: 61b2ee590b8359c7adeb8f1bd9b34069b70fcd7269c3858087669e19647899ed\n",
      "Aggregate musig pubkey: b12670f07364191a6f4cca01b35d4415b8d6f59f9a5116f2e7478b2780f6dc25\n",
      "Tweaked aggregate musig pubkey: 75fc196f4847f59c8b800caf3d4d80c8a8faeccda30d89987187db2eb8c23b97\n",
      "Channel funding musig output address: bcrt1qr5zph7w8qjkqv3dejjxa8v09ur7dh94jpyqcp9\n"
     ]
    }
   ],
   "source": [
    "# Create a new Alice key pair for channel funding multisig output\n",
    "privkey_alice_musig, pubkey_alice_musig = generate_bip340_key_pair()\n",
    "print(f\"Alice MuSig pubkey: {pubkey_alice_musig.get_bytes().hex()}\")\n",
    "print(f\"Alice MuSig privkey: {privkey_alice_musig.get_bytes().hex()}\")\n",
    "\n",
    "# Create a new Bob key pair for channel funding multisig output\n",
    "privkey_bob_musig, pubkey_bob_musig = generate_bip340_key_pair()\n",
    "print(f\"Bob MuSig pubkey: {pubkey_bob_musig.get_bytes().hex()}\")\n",
    "print(f\"Bob MuSig privkey: {privkey_bob_musig.get_bytes().hex()}\")\n",
    "\n",
    "# Generate a 2-of-2 aggregate MuSig key using the pubkeys form Alice and Bob\n",
    "c_map, agg_pubkey = generate_musig_key([pubkey_alice_musig, pubkey_bob_musig])\n",
    "\n",
    "# Multiply individual keys with challenges\n",
    "privalice_c = c_map[pubkey_alice_musig] * privkey_alice_musig\n",
    "privbob_c = c_map[pubkey_bob_musig] * privkey_bob_musig\n",
    "pubalice_c = c_map[pubkey_alice_musig] * pubkey_alice_musig\n",
    "pubbob_c = c_map[pubkey_bob_musig] * pubkey_bob_musig\n",
    "\n",
    "if agg_pubkey.get_y()%2 != 0:\n",
    "    privalice_c.negate()\n",
    "    privbob_c.negate()\n",
    "    pubalice_c.negate()\n",
    "    pubbob_c.negate()\n",
    "    agg_pubkey.negate()\n",
    "\n",
    "print(f\"Aggregate musig pubkey: {agg_pubkey.get_bytes().hex()}\")\n",
    "\n",
    "# Tweak musig public key\n",
    "# Method: ECPubKey.tweak_add()\n",
    "tweak = tagged_hash(\"TapTweak\", agg_pubkey.get_bytes())\n",
    "agg_pubkey_tweaked = agg_pubkey.tweak_add(tweak)\n",
    "print(f\"Tweaked aggregate musig pubkey: {agg_pubkey_tweaked.get_bytes().hex()}\")\n",
    "\n",
    "agg_pubkey_tweaked_b = agg_pubkey_tweaked.get_bytes()\n",
    "\n",
    "# Derive the bech32 address\n",
    "# Use program_to_witness(version_int, pubkey_bytes)\n",
    "channel_funding_musig_address = program_to_witness(0x01, agg_pubkey_tweaked_b)\n",
    "print(f\"Channel funding musig output address: {address}\")"
   ]
  },
  {
   "cell_type": "markdown",
   "id": "bea8064f",
   "metadata": {},
   "source": [
    "#### The channel funding transaction"
   ]
  },
  {
   "cell_type": "code",
   "execution_count": null,
   "id": "145b2224",
   "metadata": {},
   "outputs": [
    {
     "name": "stdout",
     "output_type": "stream",
     "text": [
      "unsigned_tx:  0200000001b4f8c76cded8a6658b794f0af01cc975c3cfc458c0ff77e4f6db45bcb8b13576000000ffffffff0240420f000000000022512075fc196f4847f59c8b800caf3d4d80c8a8faeccda30d89987187db2eb8c23b97b077e60500000000225120567246d054025dc4e33ad799d096215dd0085d4df12680af6d4a4387e1ac3d1d00000000\n"
     ]
    },
    {
     "ename": "JSONRPCException",
     "evalue": "TX decode failed (-22)",
     "output_type": "error",
     "traceback": [
      "\u001b[31m---------------------------------------------------------------------------\u001b[39m",
      "\u001b[31mJSONRPCException\u001b[39m                          Traceback (most recent call last)",
      "\u001b[36mCell\u001b[39m\u001b[36m \u001b[39m\u001b[32mIn[6]\u001b[39m\u001b[32m, line 76\u001b[39m\n\u001b[32m     73\u001b[39m \u001b[38;5;28mprint\u001b[39m(\u001b[33m\"\u001b[39m\u001b[33munsigned_tx: \u001b[39m\u001b[33m\"\u001b[39m, unsigned_tx.hex())\n\u001b[32m     75\u001b[39m \u001b[38;5;66;03m# Decode the unsigned transaction to verify it looks correct\u001b[39;00m\n\u001b[32m---> \u001b[39m\u001b[32m76\u001b[39m decoded_unsigned_tx = \u001b[43mnode\u001b[49m\u001b[43m.\u001b[49m\u001b[43mdecoderawtransaction\u001b[49m\u001b[43m(\u001b[49m\u001b[43munsigned_tx\u001b[49m\u001b[43m.\u001b[49m\u001b[43mhex\u001b[49m\u001b[43m(\u001b[49m\u001b[43m)\u001b[49m\u001b[43m)\u001b[49m\n\u001b[32m     77\u001b[39m \u001b[38;5;28mprint\u001b[39m(\u001b[33m\"\u001b[39m\u001b[33mdecoded_unsigned_tx: \u001b[39m\u001b[33m\"\u001b[39m, json.dumps(decoded_unsigned_tx, indent=\u001b[32m4\u001b[39m))\n",
      "\u001b[36mFile \u001b[39m\u001b[32m~/Projects/bitcoin/build/test/functional/test_framework/coverage.py:50\u001b[39m, in \u001b[36mAuthServiceProxyWrapper.__call__\u001b[39m\u001b[34m(self, *args, **kwargs)\u001b[39m\n\u001b[32m     44\u001b[39m \u001b[38;5;28;01mdef\u001b[39;00m\u001b[38;5;250m \u001b[39m\u001b[34m__call__\u001b[39m(\u001b[38;5;28mself\u001b[39m, *args, **kwargs):\n\u001b[32m     45\u001b[39m \u001b[38;5;250m    \u001b[39m\u001b[33;03m\"\"\"\u001b[39;00m\n\u001b[32m     46\u001b[39m \u001b[33;03m    Delegates to AuthServiceProxy, then writes the particular RPC method\u001b[39;00m\n\u001b[32m     47\u001b[39m \u001b[33;03m    called to a file.\u001b[39;00m\n\u001b[32m     48\u001b[39m \n\u001b[32m     49\u001b[39m \u001b[33;03m    \"\"\"\u001b[39;00m\n\u001b[32m---> \u001b[39m\u001b[32m50\u001b[39m     return_val = \u001b[38;5;28;43mself\u001b[39;49m\u001b[43m.\u001b[49m\u001b[43mauth_service_proxy_instance\u001b[49m\u001b[43m.\u001b[49m\u001b[34;43m__call__\u001b[39;49m\u001b[43m(\u001b[49m\u001b[43m*\u001b[49m\u001b[43margs\u001b[49m\u001b[43m,\u001b[49m\u001b[43m \u001b[49m\u001b[43m*\u001b[49m\u001b[43m*\u001b[49m\u001b[43mkwargs\u001b[49m\u001b[43m)\u001b[49m\n\u001b[32m     51\u001b[39m     \u001b[38;5;28mself\u001b[39m._log_call()\n\u001b[32m     52\u001b[39m     \u001b[38;5;28;01mreturn\u001b[39;00m return_val\n",
      "\u001b[36mFile \u001b[39m\u001b[32m~/Projects/bitcoin/build/test/functional/test_framework/authproxy.py:151\u001b[39m, in \u001b[36mAuthServiceProxy.__call__\u001b[39m\u001b[34m(self, *args, **argsn)\u001b[39m\n\u001b[32m    148\u001b[39m     \u001b[38;5;28;01mraise\u001b[39;00m JSONRPCException({\n\u001b[32m    149\u001b[39m         \u001b[33m'\u001b[39m\u001b[33mcode\u001b[39m\u001b[33m'\u001b[39m: -\u001b[32m342\u001b[39m, \u001b[33m'\u001b[39m\u001b[33mmessage\u001b[39m\u001b[33m'\u001b[39m: \u001b[33m'\u001b[39m\u001b[33mnon-200 HTTP status code\u001b[39m\u001b[33m'\u001b[39m}, status)\n\u001b[32m    150\u001b[39m \u001b[38;5;28;01mif\u001b[39;00m \u001b[33m'\u001b[39m\u001b[33merror\u001b[39m\u001b[33m'\u001b[39m \u001b[38;5;129;01min\u001b[39;00m response:\n\u001b[32m--> \u001b[39m\u001b[32m151\u001b[39m     \u001b[38;5;28;01mraise\u001b[39;00m JSONRPCException(response[\u001b[33m'\u001b[39m\u001b[33merror\u001b[39m\u001b[33m'\u001b[39m], status)\n\u001b[32m    152\u001b[39m \u001b[38;5;28;01melif\u001b[39;00m \u001b[33m'\u001b[39m\u001b[33mresult\u001b[39m\u001b[33m'\u001b[39m \u001b[38;5;129;01mnot\u001b[39;00m \u001b[38;5;129;01min\u001b[39;00m response:\n\u001b[32m    153\u001b[39m     \u001b[38;5;28;01mraise\u001b[39;00m JSONRPCException({\n\u001b[32m    154\u001b[39m         \u001b[33m'\u001b[39m\u001b[33mcode\u001b[39m\u001b[33m'\u001b[39m: -\u001b[32m343\u001b[39m, \u001b[33m'\u001b[39m\u001b[33mmessage\u001b[39m\u001b[33m'\u001b[39m: \u001b[33m'\u001b[39m\u001b[33mmissing JSON-RPC 2.0 result and error\u001b[39m\u001b[33m'\u001b[39m}, status)\n",
      "\u001b[31mJSONRPCException\u001b[39m: TX decode failed (-22)"
     ]
    }
   ],
   "source": [
    "# VERSION\n",
    "# version '2' indicates that we may use relative timelocks (BIP68)\n",
    "version = bytes.fromhex(\"0200 0000\")\n",
    "\n",
    "# MARKER (new to segwit)\n",
    "marker = bytes.fromhex(\"00\")\n",
    "\n",
    "# FLAG (new to segwit)\n",
    "flag = bytes.fromhex(\"01\")\n",
    "\n",
    "# INPUTS\n",
    "# We have just 1 input\n",
    "input_count = bytes.fromhex(\"01\")\n",
    "\n",
    "# Convert txid and index to bytes (little endian)\n",
    "txid = (bytes.fromhex(txid_to_spend))[::-1]\n",
    "index = bytes.fromhex(\"00000000\")\n",
    "\n",
    "# For the unsigned transaction we use an empty scriptSig\n",
    "scriptsig = bytes.fromhex(\"\")\n",
    "\n",
    "# use 0xffffffff unless you are using OP_CHECKSEQUENCEVERIFY, locktime, or rbf\n",
    "sequence = bytes.fromhex(\"ffff ffff\")\n",
    "\n",
    "inputs = (\n",
    "    txid\n",
    "    + index\n",
    "    + varint_len(scriptsig)\n",
    "    + scriptsig\n",
    "    + sequence\n",
    ")\n",
    "\n",
    "# OUTPUTS\n",
    "# 0x02 for out two outputs\n",
    "output_count = bytes.fromhex(\"02\")\n",
    "\n",
    "# Transaction Fee\n",
    "tx_fee_sat = int(float(\"0.0001\") * 100000000)\n",
    "\n",
    "# OUTPUT 1 - Channel Funding Output\n",
    "# 0.01 BTC to the 2-of-2 multisig Taproot output\n",
    "output1_value_sat = int(float(\"0.01\") * 100000000)\n",
    "output1_value = output1_value_sat.to_bytes(8, byteorder=\"little\", signed=False)\n",
    "# scriptPubKey P2TR: OP_1 (0x51) + PUSH32 (0x20) + xonly(32B)\n",
    "output1_spk = bytes.fromhex(\"51\") + varint_len(agg_pubkey_tweaked_b) + agg_pubkey_tweaked_b\n",
    "\n",
    "# OUTPUT 2 - Change Output\n",
    "# The rest back to Alice's change address\n",
    "# 1 BTC - 0.01 BTC - 0.0001 BTC = 0.9899 BTC\n",
    "output2_value_sat = int(float(alice_initial_fund) * 100000000) - output1_value_sat - tx_fee_sat\n",
    "output2_value = output2_value_sat.to_bytes(8, byteorder=\"little\", signed=False)\n",
    "# scriptPubKey P2TR: OP_1 (0x51) + PUSH32 (0x20) + xonly(32B)\n",
    "output2_spk = bytes.fromhex(\"51\") + varint_len(alice_change_pubkey_b) + alice_change_pubkey_b\n",
    "\n",
    "outputs = (\n",
    "    output1_value\n",
    "    + varint_len(output1_spk)\n",
    "    + output1_spk\n",
    "    + output2_value\n",
    "    + varint_len(output2_spk)\n",
    "    + output2_spk\n",
    ")\n",
    "\n",
    "# LOCKTIME\n",
    "locktime = bytes.fromhex(\"0000 0000\")\n",
    "\n",
    "unsigned_tx = (\n",
    "    version\n",
    "    + input_count\n",
    "    + inputs\n",
    "    + output_count\n",
    "    + outputs\n",
    "    + locktime\n",
    ")\n",
    "print(\"unsigned_tx: \", unsigned_tx.hex())\n",
    "\n",
    "# Decode the unsigned transaction to verify it looks correct\n",
    "decoded = node.decoderawtransaction(unsigned_tx.hex())\n",
    "print(json.dumps(decoded, indent=2, default=str))"
   ]
  },
  {
   "cell_type": "code",
   "execution_count": null,
   "id": "89087e54",
   "metadata": {},
   "outputs": [],
   "source": []
  }
 ],
 "metadata": {
  "kernelspec": {
   "display_name": "Python 3 (ipykernel)",
   "language": "python",
   "name": "python3"
  },
  "language_info": {
   "codemirror_mode": {
    "name": "ipython",
    "version": 3
   },
   "file_extension": ".py",
   "mimetype": "text/x-python",
   "name": "python",
   "nbconvert_exporter": "python",
   "pygments_lexer": "ipython3",
   "version": "3.12.3"
  }
 },
 "nbformat": 4,
 "nbformat_minor": 5
}
