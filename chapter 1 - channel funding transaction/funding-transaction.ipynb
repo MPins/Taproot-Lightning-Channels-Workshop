{
 "cells": [
  {
   "cell_type": "markdown",
   "id": "1299ef25",
   "metadata": {},
   "source": [
    "# Creating the Funding Transaction\n",
    "\n",
    "In this section, we’ll create a Lightning channel funding transaction from scratch using Python. We’ll walk through each part of the transaction—how it’s constructed, signed, and how peers exchange messages to share the necessary information to make it happen. We'll test everything using Bitcoin Core in regtest mode."
   ]
  },
  {
   "cell_type": "markdown",
   "id": "98f3614a",
   "metadata": {},
   "source": [
    "\n",
    "## Setup\n",
    "\n",
    "For this exercise we'll need Bitcoin Core. This notebook has been tested with v29.0\n",
    "\n",
    "Below, set the paths for:\n",
    "\n",
    "    The bitcoin core functional test framework directory.\n",
    "    The directory containing taproot-lightning-channels-workshop.\n",
    "\n",
    "You'll need to edit these next two lines for your local setup.\n"
   ]
  },
  {
   "cell_type": "code",
   "execution_count": 1,
   "id": "90576f36",
   "metadata": {},
   "outputs": [],
   "source": [
    "path_to_bitcoin_functional_test = \"/home/pins-dev/Projects/bitcoin/build/test/functional\"\n",
    "path_to_taproot_workshop = \"/home/pins-dev/Projects/Taproot-Lightning-Channels-Workshop\""
   ]
  },
  {
   "cell_type": "markdown",
   "id": "6b33e510",
   "metadata": {},
   "source": [
    "\n",
    "### Setup bitcoin core test framework\n",
    "\n",
    "Start up regtest mode, delete any regtest network history so we are starting from scratch."
   ]
  },
  {
   "cell_type": "code",
   "execution_count": null,
   "id": "4d2352ff",
   "metadata": {
    "scrolled": true
   },
   "outputs": [
    {
     "name": "stdout",
     "output_type": "stream",
     "text": [
      "2025-08-17T17:57:14.366000Z TestFramework (INFO): PRNG seed is: 9172606118396639736\n",
      "2025-08-17T17:57:14.368000Z TestFramework (INFO): Initializing test directory /tmp/bitcoin_func_test_evwwtr7z\n",
      "Alice funding address created: bcrt1pjvfyu8ldh6ws7aqkxafgp20pzpsddjhylv04tdvarca7xapfmssse9vvu2\n",
      "Bob funding address created: bcrt1pa37w0nf7pk7t47zfv8tgyecmm42rtgm0g268fdea3l5atcdysfxq8ad7ml\n"
     ]
    }
   ],
   "source": [
    "import sys\n",
    "\n",
    "# Add the functional test framework to our PATH\n",
    "sys.path.insert(0, path_to_bitcoin_functional_test)\n",
    "from test_framework.test_shell import TestShell\n",
    "\n",
    "# Add the bitcoin-tx-tutorial functions to our PATH\n",
    "sys.path.insert(0, path_to_taproot_workshop)\n",
    "from functions import *\n",
    "\n",
    "import json\n",
    "\n",
    "# Setup our regtest environment\n",
    "test = TestShell().setup(\n",
    "    num_nodes=1, \n",
    "    setup_clean_chain=True\n",
    ")\n",
    "\n",
    "node = test.nodes[0]\n",
    "\n",
    "# Create a new wallet and address to send mining rewards so we can fund our transactions\n",
    "node.createwallet(wallet_name='mywallet')\n",
    "address = node.getnewaddress()\n",
    "\n",
    "# Generate 101 blocks so that the first block subsidy reaches maturity\n",
    "result = node.generatetoaddress(nblocks=101, address=address, called_by_framework=True)\n",
    "\n",
    "# Check that we were able to mine 101 blocks\n",
    "assert(node.getblockcount() == 101)\n",
    "\n",
    "# Create a new address to alice so she can sign the funding transaction\n",
    "alice_wallet_ctx = generate_taproot_ctx()\n",
    "alice_funding_address = generate_taproot_address(alice_wallet_ctx, index=0, change=False)\n",
    "print(f\"Alice funding address created: {alice_funding_address}\")\n",
    "\n",
    "# Create a new address to bob so he can sign the funding transaction\n",
    "bob_wallet_ctx = generate_taproot_ctx()\n",
    "bob_funding_address = generate_taproot_address(bob_wallet_ctx, index=0, change=False)\n",
    "print(f\"Bob funding address created: {bob_funding_address}\")\n",
    "\n",
    "# Envia 1 BTC para Alice e Bob\n",
    "txid = node.sendmany(\"\", {alice_funding_address: 1, bob_funding_address: 1})\n",
    "result = node.generatetoaddress(nblocks=1, address=address, called_by_framework=True)"
   ]
  },
  {
   "cell_type": "code",
   "execution_count": null,
   "id": "0111bdbf",
   "metadata": {},
   "outputs": [],
   "source": []
  },
  {
   "cell_type": "code",
   "execution_count": null,
   "id": "f9df5292",
   "metadata": {},
   "outputs": [],
   "source": []
  }
 ],
 "metadata": {
  "kernelspec": {
   "display_name": "Python 3 (ipykernel)",
   "language": "python",
   "name": "python3"
  },
  "language_info": {
   "codemirror_mode": {
    "name": "ipython",
    "version": 3
   },
   "file_extension": ".py",
   "mimetype": "text/x-python",
   "name": "python",
   "nbconvert_exporter": "python",
   "pygments_lexer": "ipython3",
   "version": "3.12.3"
  }
 },
 "nbformat": 4,
 "nbformat_minor": 5
}
