{
 "cells": [
  {
   "cell_type": "markdown",
   "id": "1299ef25",
   "metadata": {},
   "source": [
    "# Creating the Channel Funding Transaction\n",
    "\n",
    "In this section, we’ll create a Lightning channel funding transaction from scratch using Python. We’ll walk through each part of the transaction—how it’s constructed, signed, and how peers exchange messages to share the necessary information to make it happen. We'll test everything using Bitcoin Core in regtest mode."
   ]
  },
  {
   "cell_type": "markdown",
   "id": "98f3614a",
   "metadata": {},
   "source": [
    "\n",
    "## Setup\n",
    "\n",
    "For this exercise we'll need Bitcoin Core. This notebook has been tested with v29.0\n",
    "\n",
    "Below, set the paths for:\n",
    "\n",
    "    The bitcoin core functional test framework directory.\n",
    "    The directory containing taproot-lightning-channels-workshop.\n",
    "\n",
    "You'll need to edit these next two lines for your local setup.\n"
   ]
  },
  {
   "cell_type": "code",
   "execution_count": 1,
   "id": "90576f36",
   "metadata": {},
   "outputs": [],
   "source": [
    "path_to_bitcoin_functional_test = \"/home/pins-dev/Projects/bitcoin/build/test/functional\"\n",
    "path_to_taproot_workshop = \"/home/pins-dev/Projects/Taproot-Lightning-Channels-Workshop\""
   ]
  },
  {
   "cell_type": "markdown",
   "id": "6b33e510",
   "metadata": {},
   "source": [
    "\n",
    "### Setup bitcoin core test framework\n",
    "\n",
    "Start up regtest mode, delete any regtest network history so we are starting from scratch."
   ]
  },
  {
   "cell_type": "code",
   "execution_count": 2,
   "id": "4d2352ff",
   "metadata": {
    "scrolled": true
   },
   "outputs": [
    {
     "name": "stdout",
     "output_type": "stream",
     "text": [
      "2025-08-18T02:00:00.102000Z TestFramework (INFO): PRNG seed is: 2878485877312614117\n",
      "2025-08-18T02:00:00.103000Z TestFramework (INFO): Initializing test directory /tmp/bitcoin_func_test_r4kqtao2\n"
     ]
    }
   ],
   "source": [
    "import sys\n",
    "\n",
    "# Add the functional test framework to our PATH\n",
    "sys.path.insert(0, path_to_bitcoin_functional_test)\n",
    "from test_framework.test_shell import TestShell\n",
    "\n",
    "# Add the bitcoin-tx-tutorial functions to our PATH\n",
    "sys.path.insert(0, path_to_taproot_workshop)\n",
    "from functions import *\n",
    "\n",
    "import json\n",
    "\n",
    "# Setup our regtest environment\n",
    "test = TestShell().setup(\n",
    "    num_nodes=1, \n",
    "    setup_clean_chain=True\n",
    ")\n",
    "\n",
    "node = test.nodes[0]\n",
    "\n",
    "# Create a new wallet and address to send mining rewards so we can fund our transactions\n",
    "node.createwallet(wallet_name='mywallet')\n",
    "address = node.getnewaddress()\n",
    "\n",
    "# Generate 101 blocks so that the first block subsidy reaches maturity\n",
    "result = node.generatetoaddress(nblocks=101, address=address, called_by_framework=True)\n",
    "\n",
    "# Check that we were able to mine 101 blocks\n",
    "assert(node.getblockcount() == 101)"
   ]
  },
  {
   "cell_type": "markdown",
   "id": "088c3389",
   "metadata": {},
   "source": [
    "### Setup Alice and Bob Node Wallet\n",
    "\n",
    "Create and fund Taproot addresses for Alice and Bob so they have funds to open a simple Taproot channel. The UTXO created for Alice will be the input of the Channel Funding Transaction."
   ]
  },
  {
   "cell_type": "code",
   "execution_count": 3,
   "id": "0111bdbf",
   "metadata": {},
   "outputs": [
    {
     "name": "stdout",
     "output_type": "stream",
     "text": [
      "Alice funding address created: bcrt1p89ghytrvk4vgnt5xnppyevcdwtvwp80xkq7kewq5v64gjy6ulhgsly3x09\n",
      "Bob funding address created: bcrt1pkm2t0nxx5e6qrs290zrhlrs04r9kd2qp8xxzqk3h2e88jzhnwx0scfjmsd\n"
     ]
    }
   ],
   "source": [
    "# Create a new address to alice so she can sign the funding transaction\n",
    "alice_wallet_ctx = generate_taproot_ctx()\n",
    "alice_funding_address = generate_taproot_address(alice_wallet_ctx, index=0, change=False)\n",
    "print(f\"Alice funding address created: {alice_funding_address}\")\n",
    "\n",
    "# Create a new address to bob so he can sign the funding transaction\n",
    "bob_wallet_ctx = generate_taproot_ctx()\n",
    "bob_funding_address = generate_taproot_address(bob_wallet_ctx, index=0, change=False)\n",
    "print(f\"Bob funding address created: {bob_funding_address}\")\n",
    "\n",
    "# Send 1 BTC to Alice and Bob\n",
    "txid = node.sendmany(\"\", {alice_funding_address: 1, bob_funding_address: 1})\n",
    "result = node.generatetoaddress(nblocks=1, address=address, called_by_framework=True)"
   ]
  },
  {
   "cell_type": "markdown",
   "id": "359e23fd",
   "metadata": {},
   "source": [
    "## Channel Establishment\n",
    "\n",
    "The \"[Extention Bolt](https://github.com/lightning/bolts/pull/995)\" for simple taproot channels (work in progress) defines a pathway to create a channel. The messages defined in [BOLT 2](https://github.com/lightning/bolts/blob/master/02-peer-protocol.md#channel-establishment-v1) are used to exchange the information needed to create the Channel Funding Transaction, as shown below.\n",
    "\n",
    "\n",
    "    +-----------+                              +---------+\n",
    "    |           |--(1)---  open_channel  ----->|         |\n",
    "    |           |<-(2)--  accept_channel  -----|         |\n",
    "    |           |                              |         |\n",
    "    |   Alice   |--(3)--  funding_created  --->|   Bob   |\n",
    "    |           |<-(4)--  funding_signed  -----|         |\n",
    "    |           |                              |         |\n",
    "    |           |--(5)---  channel_ready  ---->|         |\n",
    "    |           |<-(6)---  channel_ready  -----|         |\n",
    "    +-----------+                              +---------+\n",
    "\n",
    "\n",
    "* (1) open_channel - Alice share its \"next_local_nonce\"\n",
    "\n",
    "* (2) accept_channel - Bob share its \"next_local_nonce\"\n",
    "\n",
    "* (3) funding_created - Alice samples a fresh nonce, combines it with next_local_nonce received to create a MuSig2 partial signature, then shares partial_signature_with_nonce.\n",
    "\n",
    "* (4) funding_signed - Bob samples a fresh nonce, combines it with next_local_nonce received to create a MuSig2 partial signature, then shares partial_signature_with_nonce.\n",
    "\n",
    "* (5) channel_ready - Alice share its \"next_local_nonce\"\n",
    "\n",
    "* (6) channel_ready - Bob share its \"next_local_nonce\"\n",
    "\n",
    "\n",
    "All the nonces are generated using \"NonceGen\" algorithm defined in [bip-musig2](https://github.com/bitcoin/bips/blob/master/bip-0327.mediawiki) to ensure it generates nonces in a safe manner.\n",
    "\n",
    "The pubkeys are sorted using the \"KeySort\" algorithm from [bip-musig2](https://github.com/bitcoin/bips/blob/master/bip-0327.mediawiki).\n",
    "\n",
    "To compute the aggregated musig2 public key from the sorted funding_pubkeys use the \"KeyAgg\" algorithm from [bip-musig2](https://github.com/bitcoin/bips/blob/master/bip-0327.mediawiki).\n",
    "\n",
    "To construct a musig2 partial signature for the sender's remote commitment use the \"Sign\" algorithm from [bip-musig2](https://github.com/bitcoin/bips/blob/master/bip-0327.mediawiki)."
   ]
  },
  {
   "cell_type": "markdown",
   "id": "eef4aab6",
   "metadata": {},
   "source": [
    "### The Channel Funding Transaction\n",
    "\n",
    "Alice has a 1 BTC UTXO that will serve as the funding transaction input. We’ll now create two outputs: a change output back to Alice and the channel-funding output."
   ]
  },
  {
   "cell_type": "code",
   "execution_count": 4,
   "id": "9a0d7534",
   "metadata": {},
   "outputs": [
    {
     "name": "stdout",
     "output_type": "stream",
     "text": [
      "Alice change address created: bcrt1p3kaq8gshnsxgu6569nz4jaqh679glvznpk6y0k4nz392wn7gl3xs4pqnlz\n"
     ]
    }
   ],
   "source": [
    "alice_change_address = generate_taproot_address(alice_wallet_ctx, index=0, change=True)\n",
    "print(f\"Alice change address created: {alice_change_address}\")"
   ]
  },
  {
   "cell_type": "code",
   "execution_count": null,
   "id": "bd82376f",
   "metadata": {},
   "outputs": [],
   "source": []
  }
 ],
 "metadata": {
  "kernelspec": {
   "display_name": "Python 3 (ipykernel)",
   "language": "python",
   "name": "python3"
  },
  "language_info": {
   "codemirror_mode": {
    "name": "ipython",
    "version": 3
   },
   "file_extension": ".py",
   "mimetype": "text/x-python",
   "name": "python",
   "nbconvert_exporter": "python",
   "pygments_lexer": "ipython3",
   "version": "3.12.3"
  }
 },
 "nbformat": 4,
 "nbformat_minor": 5
}
