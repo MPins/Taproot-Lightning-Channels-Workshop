{
 "cells": [
  {
   "cell_type": "markdown",
   "id": "1299ef25",
   "metadata": {},
   "source": [
    "# Creating the Funding Transaction\n",
    "\n",
    "In this section, we’ll create a Lightning channel funding transaction from scratch using Python. We’ll walk through each part of the transaction—how it’s constructed, signed, and how peers exchange messages to share the necessary information to make it happen. We'll test everything using Bitcoin Core in regtest mode."
   ]
  },
  {
   "cell_type": "markdown",
   "id": "98f3614a",
   "metadata": {},
   "source": [
    "\n",
    "## Setup\n",
    "\n",
    "For this exercise we'll need Bitcoin Core. This notebook has been tested with v29.0\n",
    "\n",
    "Below, set the paths for:\n",
    "\n",
    "    The bitcoin core functional test framework directory.\n",
    "    The directory containing taproot-lightning-channels-workshop.\n",
    "\n",
    "You'll need to edit these next two lines for your local setup.\n"
   ]
  },
  {
   "cell_type": "code",
   "execution_count": 1,
   "id": "90576f36",
   "metadata": {},
   "outputs": [],
   "source": [
    "path_to_bitcoin_functional_test = \"/home/pins-dev/Projects/bitcoin/build/test/functional\"\n",
    "path_to_taproot_workshop = \"/home/pins-dev/Projects/Taproot-Lightning-Channels-Workshop\""
   ]
  },
  {
   "cell_type": "markdown",
   "id": "6b33e510",
   "metadata": {},
   "source": [
    "\n",
    "### Setup bitcoin core test framework\n",
    "\n",
    "Start up regtest mode, delete any regtest network history so we are starting from scratch."
   ]
  },
  {
   "cell_type": "code",
   "execution_count": null,
   "id": "4d2352ff",
   "metadata": {
    "scrolled": true
   },
   "outputs": [
    {
     "name": "stdout",
     "output_type": "stream",
     "text": [
      "2025-08-16T15:59:19.246000Z TestFramework (INFO): PRNG seed is: 9203870955786146447\n",
      "2025-08-16T15:59:19.247000Z TestFramework (INFO): Initializing test directory /tmp/bitcoin_func_test_9b0z7rgu\n"
     ]
    },
    {
     "ename": "AssertionError",
     "evalue": "Direct call of this mining RPC is discouraged. Please use one of the self.generate* methods on the test framework, which sync the nodes to avoid intermittent test issues. You may use sync_fun=self.no_op to disable the sync explicitly.",
     "output_type": "error",
     "traceback": [
      "\u001b[31m---------------------------------------------------------------------------\u001b[39m",
      "\u001b[31mTypeError\u001b[39m                                 Traceback (most recent call last)",
      "\u001b[36mCell\u001b[39m\u001b[36m \u001b[39m\u001b[32mIn[2]\u001b[39m\u001b[32m, line 26\u001b[39m\n\u001b[32m     23\u001b[39m address = node.getnewaddress()\n\u001b[32m     25\u001b[39m \u001b[38;5;66;03m# Generate 101 blocks so that the first block subsidy reaches maturity\u001b[39;00m\n\u001b[32m---> \u001b[39m\u001b[32m26\u001b[39m result = \u001b[43mnode\u001b[49m\u001b[43m.\u001b[49m\u001b[43mgeneratetoaddress\u001b[49m\u001b[43m(\u001b[49m\u001b[43mnblocks\u001b[49m\u001b[43m=\u001b[49m\u001b[32;43m101\u001b[39;49m\u001b[43m,\u001b[49m\u001b[43m \u001b[49m\u001b[43maddress\u001b[49m\u001b[43m=\u001b[49m\u001b[43maddress\u001b[49m\u001b[43m,\u001b[49m\u001b[43m \u001b[49m\u001b[43minvalid_call\u001b[49m\u001b[43m=\u001b[49m\u001b[38;5;28;43;01mFalse\u001b[39;49;00m\u001b[43m)\u001b[49m\n\u001b[32m     28\u001b[39m \u001b[38;5;66;03m# Check that we were able to mine 101 blocks\u001b[39;00m\n\u001b[32m     29\u001b[39m \u001b[38;5;28;01massert\u001b[39;00m(node.getblockcount() == \u001b[32m101\u001b[39m)\n",
      "\u001b[31mTypeError\u001b[39m: TestNode.generatetoaddress() missing 1 required keyword-only argument: 'called_by_framework'"
     ]
    }
   ],
   "source": [
    "import sys\n",
    "\n",
    "# Add the functional test framework to our PATH\n",
    "sys.path.insert(0, path_to_bitcoin_functional_test)\n",
    "from test_framework.test_shell import TestShell\n",
    "\n",
    "# Add the bitcoin-tx-tutorial functions to our PATH\n",
    "sys.path.insert(0, path_to_taproot_workshop)\n",
    "from functions import *\n",
    "\n",
    "import json\n",
    "\n",
    "# Setup our regtest environment\n",
    "test = TestShell().setup(\n",
    "    num_nodes=1, \n",
    "    setup_clean_chain=True\n",
    ")\n",
    "\n",
    "node = test.nodes[0]\n",
    "\n",
    "# Create a new wallet and address to send mining rewards so we can fund our transactions\n",
    "node.createwallet(wallet_name='mywallet')\n",
    "address = node.getnewaddress()\n",
    "\n",
    "# Generate 101 blocks so that the first block subsidy reaches maturity\n",
    "result = node.generatetoaddress(nblocks=101, address=address, called_by_framework=True)\n",
    "\n",
    "# Check that we were able to mine 101 blocks\n",
    "assert(node.getblockcount() == 101)"
   ]
  },
  {
   "cell_type": "code",
   "execution_count": null,
   "id": "0111bdbf",
   "metadata": {},
   "outputs": [],
   "source": []
  }
 ],
 "metadata": {
  "kernelspec": {
   "display_name": "Python 3 (ipykernel)",
   "language": "python",
   "name": "python3"
  },
  "language_info": {
   "codemirror_mode": {
    "name": "ipython",
    "version": 3
   },
   "file_extension": ".py",
   "mimetype": "text/x-python",
   "name": "python",
   "nbconvert_exporter": "python",
   "pygments_lexer": "ipython3",
   "version": "3.12.3"
  }
 },
 "nbformat": 4,
 "nbformat_minor": 5
}
