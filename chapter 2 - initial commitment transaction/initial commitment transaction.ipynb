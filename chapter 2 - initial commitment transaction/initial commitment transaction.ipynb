{
 "cells": [
  {
   "cell_type": "markdown",
   "id": "ffef41a1",
   "metadata": {},
   "source": [
    "# Creating the Initial Commitment Transaction\n",
    "\n",
    "In this section, we'll build a lightning channel initial commitment transaction from scratch using Python. We'll walk through each part of the transaction — how it's constructed, signed, and the messages exchanged between peers to coordinate it. The process will be tested using Bitcoin Core in regtest mode."
   ]
  },
  {
   "cell_type": "markdown",
   "id": "181c255d",
   "metadata": {},
   "source": [
    "## Setup\n",
    "\n",
    "For this notebook, we’ll use the Chapter 1 – Channel Funding Transaction, where the funding transaction was created."
   ]
  },
  {
   "cell_type": "code",
   "execution_count": null,
   "id": "6cc23033",
   "metadata": {},
   "outputs": [],
   "source": [
    "# run notebook\n",
    "%run \"/home/pins-dev/Projects/Taproot-Lightning-Channels-Workshop/chapter 1 - channel funding transaction/funding-transaction.ipynb\""
   ]
  },
  {
   "cell_type": "markdown",
   "id": "f6cdc5bb",
   "metadata": {},
   "source": [
    "## Channel Operation Messages\n",
    "\n",
    "    +-----------+                                     +---------+\n",
    "    |           |                                     |         |\n",
    "    |   Alice   |---(3)--- commitment (jit nonce) --->|   Bob   |\n",
    "    |           |<--(4)--- revoke_and_ack (nonce) ----|         |\n",
    "    |           |                                     |         |\n",
    "    +-----------+                                     +---------+"
   ]
  }
 ],
 "metadata": {
  "language_info": {
   "name": "python"
  }
 },
 "nbformat": 4,
 "nbformat_minor": 5
}
